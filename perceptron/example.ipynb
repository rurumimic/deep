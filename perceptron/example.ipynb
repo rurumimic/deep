{
 "cells": [
  {
   "cell_type": "code",
   "execution_count": 1,
   "metadata": {},
   "outputs": [
    {
     "name": "stdout",
     "output_type": "stream",
     "text": [
      "Python 3.11.5\n"
     ]
    }
   ],
   "source": [
    "!python -V"
   ]
  },
  {
   "cell_type": "markdown",
   "metadata": {},
   "source": [
    "# Perceptron"
   ]
  },
  {
   "cell_type": "code",
   "execution_count": 2,
   "metadata": {},
   "outputs": [],
   "source": [
    "from perceptron import AND, NAND, OR, XOR\n",
    "\n",
    "def do(f):\n",
    "    tab = len(f.__name__) * ' '\n",
    "    name = f.__name__\n",
    "    print(f'{name}  x1   x2   y')\n",
    "    print(f'{tab}  -----------')\n",
    "    print(f'{tab}   0    0   {f(0, 0)}')\n",
    "    print(f'{tab}   1    0   {f(1, 0)}')\n",
    "    print(f'{tab}   0    1   {f(0, 1)}')\n",
    "    print(f'{tab}   1    1   {f(1, 1)}')"
   ]
  },
  {
   "cell_type": "markdown",
   "metadata": {},
   "source": [
    "## AND Gate\n",
    "\n",
    "| x<sub>1</sub> | x<sub>1</sub> | y |\n",
    "|---|---|---|\n",
    "| 0 | 0 | 0 |\n",
    "| 1 | 0 | 0 |\n",
    "| 0 | 1 | 0 |\n",
    "| 1 | 1 | 1 |"
   ]
  },
  {
   "cell_type": "code",
   "execution_count": 3,
   "metadata": {},
   "outputs": [
    {
     "name": "stdout",
     "output_type": "stream",
     "text": [
      "AND  x1   x2   y\n",
      "     -----------\n",
      "      0    0   0\n",
      "      1    0   0\n",
      "      0    1   0\n",
      "      1    1   1\n"
     ]
    }
   ],
   "source": [
    "do(AND)"
   ]
  },
  {
   "cell_type": "markdown",
   "metadata": {},
   "source": [
    "## NAND Gate\n",
    "\n",
    "| x<sub>1</sub> | x<sub>1</sub> | y |\n",
    "|---|---|---|\n",
    "| 0 | 0 | 1 |\n",
    "| 1 | 0 | 1 |\n",
    "| 0 | 1 | 1 |\n",
    "| 1 | 1 | 0 |"
   ]
  },
  {
   "cell_type": "code",
   "execution_count": 4,
   "metadata": {},
   "outputs": [
    {
     "name": "stdout",
     "output_type": "stream",
     "text": [
      "NAND  x1   x2   y\n",
      "      -----------\n",
      "       0    0   1\n",
      "       1    0   1\n",
      "       0    1   1\n",
      "       1    1   0\n"
     ]
    }
   ],
   "source": [
    "do(NAND)"
   ]
  },
  {
   "cell_type": "markdown",
   "metadata": {},
   "source": [
    "## OR Gate\n",
    "\n",
    "| x<sub>1</sub> | x<sub>1</sub> | y |\n",
    "|---|---|---|\n",
    "| 0 | 0 | 0 |\n",
    "| 1 | 0 | 1 |\n",
    "| 0 | 1 | 1 |\n",
    "| 1 | 1 | 1 |"
   ]
  },
  {
   "cell_type": "code",
   "execution_count": 5,
   "metadata": {},
   "outputs": [
    {
     "name": "stdout",
     "output_type": "stream",
     "text": [
      "OR  x1   x2   y\n",
      "    -----------\n",
      "     0    0   0\n",
      "     1    0   1\n",
      "     0    1   1\n",
      "     1    1   1\n"
     ]
    }
   ],
   "source": [
    "do(OR)"
   ]
  },
  {
   "cell_type": "markdown",
   "metadata": {},
   "source": [
    "## XOR Gate\n",
    "\n",
    "| x<sub>1</sub> | x<sub>1</sub> | y |\n",
    "|---|---|---|\n",
    "| 0 | 0 | 0 |\n",
    "| 1 | 0 | 1 |\n",
    "| 0 | 1 | 1 |\n",
    "| 1 | 1 | 0 |"
   ]
  },
  {
   "cell_type": "code",
   "execution_count": 6,
   "metadata": {},
   "outputs": [
    {
     "name": "stdout",
     "output_type": "stream",
     "text": [
      "XOR  x1   x2   y\n",
      "     -----------\n",
      "      0    0   0\n",
      "      1    0   1\n",
      "      0    1   1\n",
      "      1    1   0\n"
     ]
    }
   ],
   "source": [
    "do(XOR)"
   ]
  }
 ],
 "metadata": {
  "kernelspec": {
   "display_name": "Python 3 (ipykernel)",
   "language": "python",
   "name": "python3"
  },
  "language_info": {
   "codemirror_mode": {
    "name": "ipython",
    "version": 3
   },
   "file_extension": ".py",
   "mimetype": "text/x-python",
   "name": "python",
   "nbconvert_exporter": "python",
   "pygments_lexer": "ipython3",
   "version": "3.11.5"
  }
 },
 "nbformat": 4,
 "nbformat_minor": 4
}
